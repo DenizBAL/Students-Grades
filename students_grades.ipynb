{
 "cells": [
  {
   "cell_type": "code",
   "execution_count": 75,
   "id": "f5e888cb-64a3-4375-869e-d379fb4da85b",
   "metadata": {},
   "outputs": [],
   "source": [
    "import pandas as pd\n",
    "import numpy as np\n",
    "import matplotlib.pyplot as plt"
   ]
  },
  {
   "cell_type": "code",
   "execution_count": 77,
   "id": "4a126b4c-c5ec-48c6-8be5-7f0b123b7684",
   "metadata": {},
   "outputs": [],
   "source": [
    "df=pd.read_csv(\"students_grades.csv\")"
   ]
  },
  {
   "cell_type": "code",
   "execution_count": 79,
   "id": "16af562a-7544-41fb-b351-2d007480cd3e",
   "metadata": {},
   "outputs": [
    {
     "name": "stdout",
     "output_type": "stream",
     "text": [
      "(40, 8)\n"
     ]
    },
    {
     "data": {
      "text/html": [
       "<div>\n",
       "<style scoped>\n",
       "    .dataframe tbody tr th:only-of-type {\n",
       "        vertical-align: middle;\n",
       "    }\n",
       "\n",
       "    .dataframe tbody tr th {\n",
       "        vertical-align: top;\n",
       "    }\n",
       "\n",
       "    .dataframe thead th {\n",
       "        text-align: right;\n",
       "    }\n",
       "</style>\n",
       "<table border=\"1\" class=\"dataframe\">\n",
       "  <thead>\n",
       "    <tr style=\"text-align: right;\">\n",
       "      <th></th>\n",
       "      <th>Name</th>\n",
       "      <th>Subject</th>\n",
       "      <th>Exam1</th>\n",
       "      <th>Exam2</th>\n",
       "      <th>FinalExam</th>\n",
       "      <th>Gender</th>\n",
       "      <th>StudyHours</th>\n",
       "      <th>Attendance</th>\n",
       "    </tr>\n",
       "  </thead>\n",
       "  <tbody>\n",
       "    <tr>\n",
       "      <th>0</th>\n",
       "      <td>Ali</td>\n",
       "      <td>Kimya</td>\n",
       "      <td>65.0</td>\n",
       "      <td>36</td>\n",
       "      <td>44</td>\n",
       "      <td>Erkek</td>\n",
       "      <td>12.7</td>\n",
       "      <td>63.8</td>\n",
       "    </tr>\n",
       "    <tr>\n",
       "      <th>1</th>\n",
       "      <td>Ayşe</td>\n",
       "      <td>Tarih</td>\n",
       "      <td>98.0</td>\n",
       "      <td>94</td>\n",
       "      <td>62</td>\n",
       "      <td>Erkek</td>\n",
       "      <td>2.5</td>\n",
       "      <td>77.3</td>\n",
       "    </tr>\n",
       "    <tr>\n",
       "      <th>2</th>\n",
       "      <td>Mehmet</td>\n",
       "      <td>Matematik</td>\n",
       "      <td>45.0</td>\n",
       "      <td>100</td>\n",
       "      <td>89</td>\n",
       "      <td>Erkek</td>\n",
       "      <td>2.8</td>\n",
       "      <td>82.6</td>\n",
       "    </tr>\n",
       "    <tr>\n",
       "      <th>3</th>\n",
       "      <td>Elif</td>\n",
       "      <td>Fizik</td>\n",
       "      <td>76.0</td>\n",
       "      <td>80</td>\n",
       "      <td>41</td>\n",
       "      <td>Erkek</td>\n",
       "      <td>14.7</td>\n",
       "      <td>61.9</td>\n",
       "    </tr>\n",
       "    <tr>\n",
       "      <th>4</th>\n",
       "      <td>Ahmet</td>\n",
       "      <td>Fizik</td>\n",
       "      <td>66.0</td>\n",
       "      <td>48</td>\n",
       "      <td>50</td>\n",
       "      <td>Kadın</td>\n",
       "      <td>9.4</td>\n",
       "      <td>82.4</td>\n",
       "    </tr>\n",
       "  </tbody>\n",
       "</table>\n",
       "</div>"
      ],
      "text/plain": [
       "     Name    Subject  Exam1  Exam2  FinalExam Gender  StudyHours  Attendance\n",
       "0     Ali      Kimya   65.0     36         44  Erkek        12.7        63.8\n",
       "1    Ayşe      Tarih   98.0     94         62  Erkek         2.5        77.3\n",
       "2  Mehmet  Matematik   45.0    100         89  Erkek         2.8        82.6\n",
       "3    Elif      Fizik   76.0     80         41  Erkek        14.7        61.9\n",
       "4   Ahmet      Fizik   66.0     48         50  Kadın         9.4        82.4"
      ]
     },
     "metadata": {},
     "output_type": "display_data"
    },
    {
     "name": "stdout",
     "output_type": "stream",
     "text": [
      "<class 'pandas.core.frame.DataFrame'>\n",
      "RangeIndex: 40 entries, 0 to 39\n",
      "Data columns (total 8 columns):\n",
      " #   Column      Non-Null Count  Dtype  \n",
      "---  ------      --------------  -----  \n",
      " 0   Name        40 non-null     object \n",
      " 1   Subject     40 non-null     object \n",
      " 2   Exam1       39 non-null     float64\n",
      " 3   Exam2       40 non-null     int64  \n",
      " 4   FinalExam   40 non-null     int64  \n",
      " 5   Gender      40 non-null     object \n",
      " 6   StudyHours  40 non-null     float64\n",
      " 7   Attendance  40 non-null     float64\n",
      "dtypes: float64(3), int64(2), object(3)\n",
      "memory usage: 2.6+ KB\n"
     ]
    },
    {
     "data": {
      "text/plain": [
       "None"
      ]
     },
     "metadata": {},
     "output_type": "display_data"
    }
   ],
   "source": [
    "print(df.shape)\n",
    "display(df.head())\n",
    "display(df.info())"
   ]
  },
  {
   "cell_type": "code",
   "execution_count": 81,
   "id": "7e4b3e21-b96c-4098-a55e-5c62c3edfcd0",
   "metadata": {},
   "outputs": [
    {
     "name": "stdout",
     "output_type": "stream",
     "text": [
      "Eksik değer sayıları:\n",
      " Name           0\n",
      "Subject        0\n",
      "Exam1          1\n",
      "Exam2          0\n",
      "FinalExam      0\n",
      "Gender        40\n",
      "StudyHours     0\n",
      "Attendance     0\n",
      "dtype: int64\n"
     ]
    },
    {
     "data": {
      "text/html": [
       "<div>\n",
       "<style scoped>\n",
       "    .dataframe tbody tr th:only-of-type {\n",
       "        vertical-align: middle;\n",
       "    }\n",
       "\n",
       "    .dataframe tbody tr th {\n",
       "        vertical-align: top;\n",
       "    }\n",
       "\n",
       "    .dataframe thead th {\n",
       "        text-align: right;\n",
       "    }\n",
       "</style>\n",
       "<table border=\"1\" class=\"dataframe\">\n",
       "  <thead>\n",
       "    <tr style=\"text-align: right;\">\n",
       "      <th></th>\n",
       "      <th>Name</th>\n",
       "      <th>Subject</th>\n",
       "      <th>Exam1</th>\n",
       "      <th>Exam2</th>\n",
       "      <th>FinalExam</th>\n",
       "      <th>Gender</th>\n",
       "      <th>StudyHours</th>\n",
       "      <th>Attendance</th>\n",
       "    </tr>\n",
       "  </thead>\n",
       "  <tbody>\n",
       "    <tr>\n",
       "      <th>27</th>\n",
       "      <td>Cem</td>\n",
       "      <td>Kimya</td>\n",
       "      <td>84.0</td>\n",
       "      <td>99</td>\n",
       "      <td>38</td>\n",
       "      <td>NaN</td>\n",
       "      <td>11.9</td>\n",
       "      <td>110.0</td>\n",
       "    </tr>\n",
       "  </tbody>\n",
       "</table>\n",
       "</div>"
      ],
      "text/plain": [
       "   Name Subject  Exam1  Exam2  FinalExam  Gender  StudyHours  Attendance\n",
       "27  Cem   Kimya   84.0     99         38     NaN        11.9       110.0"
      ]
     },
     "metadata": {},
     "output_type": "display_data"
    }
   ],
   "source": [
    "for col in [\"Exam1\",\"Exam2\",\"FinalExam\",\"Gender\",\"StudyHours\",\"Attendance\"]: # Sayısal sütünları sayıya dönüştürmek.\n",
    "    df[col]=pd.to_numeric(df[col], errors=\"coerce\")\n",
    "print(\"Eksik değer sayıları:\\n\", df.isna().sum())               # Boş satır değerleri kaldırmak.\n",
    "bad_att=df[(df[\"Attendance\"]>100) | (df[\"Attendance\"]<0)]              # 0-100 aralığının dışındaki değerleri yakalamak için\n",
    "display(bad_att)\n"
   ]
  },
  {
   "cell_type": "code",
   "execution_count": 83,
   "id": "0ce16bc3-bc12-4de4-94ab-53027ae76c4c",
   "metadata": {},
   "outputs": [
    {
     "data": {
      "text/html": [
       "<div>\n",
       "<style scoped>\n",
       "    .dataframe tbody tr th:only-of-type {\n",
       "        vertical-align: middle;\n",
       "    }\n",
       "\n",
       "    .dataframe tbody tr th {\n",
       "        vertical-align: top;\n",
       "    }\n",
       "\n",
       "    .dataframe thead th {\n",
       "        text-align: right;\n",
       "    }\n",
       "</style>\n",
       "<table border=\"1\" class=\"dataframe\">\n",
       "  <thead>\n",
       "    <tr style=\"text-align: right;\">\n",
       "      <th></th>\n",
       "      <th>Name</th>\n",
       "      <th>Subject</th>\n",
       "      <th>Exam1</th>\n",
       "      <th>Exam2</th>\n",
       "      <th>FinalExam</th>\n",
       "      <th>Gender</th>\n",
       "      <th>StudyHours</th>\n",
       "      <th>Attendance</th>\n",
       "    </tr>\n",
       "  </thead>\n",
       "  <tbody>\n",
       "    <tr>\n",
       "      <th>5</th>\n",
       "      <td>Zeynep</td>\n",
       "      <td>Fizik</td>\n",
       "      <td>NaN</td>\n",
       "      <td>54</td>\n",
       "      <td>82</td>\n",
       "      <td>NaN</td>\n",
       "      <td>3.3</td>\n",
       "      <td>88.5</td>\n",
       "    </tr>\n",
       "  </tbody>\n",
       "</table>\n",
       "</div>"
      ],
      "text/plain": [
       "     Name Subject  Exam1  Exam2  FinalExam  Gender  StudyHours  Attendance\n",
       "5  Zeynep   Fizik    NaN     54         82     NaN         3.3        88.5"
      ]
     },
     "metadata": {},
     "output_type": "display_data"
    }
   ],
   "source": [
    "df.loc[df[\"Attendance\"]>100,\"Attendance\"]=100 # 100 den fazla değer varsa 100'e eşitlemek.\n",
    "display(df[df[[\"Exam1\",\"Exam2\",\"FinalExam\"]].isna().any(axis=1)]) # Değeri olmayan stunları bulmak."
   ]
  },
  {
   "cell_type": "code",
   "execution_count": 85,
   "id": "2c7bef70-55cc-40d8-9314-443d0121791b",
   "metadata": {},
   "outputs": [],
   "source": [
    "df['Exam1'] = df['Exam1'].fillna(df.groupby('Subject')['Exam1'].transform('median')) # Eksik sınav verisinin sılmek"
   ]
  },
  {
   "cell_type": "code",
   "execution_count": 87,
   "id": "0176ffda-daad-4f0b-a0ef-2895b7b2de79",
   "metadata": {},
   "outputs": [
    {
     "data": {
      "text/html": [
       "<div>\n",
       "<style scoped>\n",
       "    .dataframe tbody tr th:only-of-type {\n",
       "        vertical-align: middle;\n",
       "    }\n",
       "\n",
       "    .dataframe tbody tr th {\n",
       "        vertical-align: top;\n",
       "    }\n",
       "\n",
       "    .dataframe thead th {\n",
       "        text-align: right;\n",
       "    }\n",
       "</style>\n",
       "<table border=\"1\" class=\"dataframe\">\n",
       "  <thead>\n",
       "    <tr style=\"text-align: right;\">\n",
       "      <th></th>\n",
       "      <th>Name</th>\n",
       "      <th>Subject</th>\n",
       "      <th>Exam1</th>\n",
       "      <th>Exam2</th>\n",
       "      <th>FinalExam</th>\n",
       "      <th>Average</th>\n",
       "    </tr>\n",
       "  </thead>\n",
       "  <tbody>\n",
       "    <tr>\n",
       "      <th>0</th>\n",
       "      <td>Ali</td>\n",
       "      <td>Kimya</td>\n",
       "      <td>65.0</td>\n",
       "      <td>36</td>\n",
       "      <td>44</td>\n",
       "      <td>47.9</td>\n",
       "    </tr>\n",
       "    <tr>\n",
       "      <th>1</th>\n",
       "      <td>Ayşe</td>\n",
       "      <td>Tarih</td>\n",
       "      <td>98.0</td>\n",
       "      <td>94</td>\n",
       "      <td>62</td>\n",
       "      <td>82.4</td>\n",
       "    </tr>\n",
       "    <tr>\n",
       "      <th>2</th>\n",
       "      <td>Mehmet</td>\n",
       "      <td>Matematik</td>\n",
       "      <td>45.0</td>\n",
       "      <td>100</td>\n",
       "      <td>89</td>\n",
       "      <td>79.1</td>\n",
       "    </tr>\n",
       "    <tr>\n",
       "      <th>3</th>\n",
       "      <td>Elif</td>\n",
       "      <td>Fizik</td>\n",
       "      <td>76.0</td>\n",
       "      <td>80</td>\n",
       "      <td>41</td>\n",
       "      <td>63.2</td>\n",
       "    </tr>\n",
       "    <tr>\n",
       "      <th>4</th>\n",
       "      <td>Ahmet</td>\n",
       "      <td>Fizik</td>\n",
       "      <td>66.0</td>\n",
       "      <td>48</td>\n",
       "      <td>50</td>\n",
       "      <td>54.2</td>\n",
       "    </tr>\n",
       "  </tbody>\n",
       "</table>\n",
       "</div>"
      ],
      "text/plain": [
       "     Name    Subject  Exam1  Exam2  FinalExam  Average\n",
       "0     Ali      Kimya   65.0     36         44     47.9\n",
       "1    Ayşe      Tarih   98.0     94         62     82.4\n",
       "2  Mehmet  Matematik   45.0    100         89     79.1\n",
       "3    Elif      Fizik   76.0     80         41     63.2\n",
       "4   Ahmet      Fizik   66.0     48         50     54.2"
      ]
     },
     "metadata": {},
     "output_type": "display_data"
    }
   ],
   "source": [
    "df_clean[\"Average\"]=(0.3*df_clean[\"Exam1\"]+0.3*df_clean[\"Exam2\"]+0.4*df_clean[\"FinalExam\"]) #Orta\n",
    "display(df_clean[[\"Name\",\"Subject\",\"Exam1\",\"Exam2\",\"FinalExam\",\"Average\"]].head())"
   ]
  },
  {
   "cell_type": "code",
   "execution_count": 89,
   "id": "3a1b8145-2a47-4297-b575-20ddd6e770c3",
   "metadata": {},
   "outputs": [
    {
     "data": {
      "text/plain": [
       "count    40.000000\n",
       "mean     67.667500\n",
       "std      13.247126\n",
       "min      44.400000\n",
       "25%      54.275000\n",
       "50%      67.750000\n",
       "75%      79.250000\n",
       "max      88.900000\n",
       "Name: Average, dtype: float64"
      ]
     },
     "metadata": {},
     "output_type": "display_data"
    }
   ],
   "source": [
    "display(df_clean[\"Average\"].describe())  #Genel istatistik."
   ]
  },
  {
   "cell_type": "code",
   "execution_count": 95,
   "id": "d14ed8cc-5102-4346-a101-f9ac706de52b",
   "metadata": {},
   "outputs": [
    {
     "name": "stdout",
     "output_type": "stream",
     "text": [
      "Derse göre ortalama\n",
      " Subject\n",
      "Matematik     78.800000\n",
      "Matematik     74.883333\n",
      "Tarih         69.750000\n",
      "Kimya         68.180000\n",
      "Fizik         65.130000\n",
      "Biyoloji      61.000000\n",
      "Name: Average, dtype: float64\n"
     ]
    }
   ],
   "source": [
    "subject_mean=df_clean.groupby(\"Subject\")[\"Average\"].mean().sort_values(ascending=False) #Derslere göre ortalama\n",
    "print(\"Derse göre ortalama\\n\",subject_mean)"
   ]
  },
  {
   "cell_type": "code",
   "execution_count": 101,
   "id": "d897c015-0c32-42bb-a6e3-57a5224e6c14",
   "metadata": {},
   "outputs": [
    {
     "data": {
      "image/png": "[encoded data removed]",
      "text/plain": [
       "<Figure size 800x500 with 1 Axes>"
      ]
     },
     "metadata": {},
     "output_type": "display_data"
    },
    {
     "data": {
      "text/plain": [
       "<Figure size 640x480 with 0 Axes>"
      ]
     },
     "metadata": {},
     "output_type": "display_data"
    }
   ],
   "source": [
    "plt.figure(figsize=(8,5))     # bAR ile görselleştirme\n",
    "subject_mean.plot(kind=\"bar\")\n",
    "plt.title(\"Derslere göre ortalama not: (Average)\")\n",
    "plt.ylabel(\"Ortalama\")\n",
    "plt.xlabel(\"Ders\")\n",
    "plt.xticks(rotation=30)\n",
    "plt.tight_layout()\n",
    "plt.show()\n",
    "plt.savefig(\"Subject_mean_bar.png\",dpi=150)"
   ]
  },
  {
   "cell_type": "code",
   "execution_count": 125,
   "id": "0fcf9087-c288-4c74-8e71-b25eabacc5dc",
   "metadata": {},
   "outputs": [
    {
     "data": {
      "image/png": "[encoded data removed]",
      "text/plain": [
       "<Figure size 500x400 with 1 Axes>"
      ]
     },
     "metadata": {},
     "output_type": "display_data"
    }
   ],
   "source": [
    "plt.figure(figsize=(5,4))\n",
    "plt.hist(df_clean[\"Average\"],bins=10)\n",
    "plt.title(\"Ortalama Not Dağılımı\")\n",
    "plt.xlabel(\"Ortalama\")\n",
    "plt.ylabel(\"Kişi Sayısı\")\n",
    "plt.tight_layout()\n",
    "plt.show()"
   ]
  },
  {
   "cell_type": "code",
   "execution_count": 129,
   "id": "ff7071db-26a7-4738-a545-a347c6fc71be",
   "metadata": {},
   "outputs": [
    {
     "data": {
      "image/png": "[encoded data removed]",
      "text/plain": [
       "<Figure size 700x500 with 1 Axes>"
      ]
     },
     "metadata": {},
     "output_type": "display_data"
    },
    {
     "name": "stdout",
     "output_type": "stream",
     "text": [
      "Çalışma saati ile Ortalama arası korelasyon: 0.04\n",
      "Kolerasyon 0.3-0.6 arasındadır. 0 yakın ise başarısızdır.\n"
     ]
    }
   ],
   "source": [
    "plt.figure(figsize=(7,5))\n",
    "plt.scatter(df_clean[\"StudyHours\"],df_clean[\"Average\"])\n",
    "plt.xlabel(\"StudyHours (Saat)\")\n",
    "plt.ylabel(\"Average (Ortlama)\")\n",
    "plt.title(\"Çalışma Saati İle Ortalama Başarısı\")\n",
    "plt.grid(True)\n",
    "#Doğrusal trend cizmmek. Çalışma saati ile ilgili.\n",
    "m, b=np.polyfit(df_clean[\"StudyHours\"],df_clean[\"Average\"],1)\n",
    "xvals=np.linspace(df_clean[\"StudyHours\"].min(),df_clean[\"StudyHours\"].max(),100)\n",
    "plt.plot(xvals,m*xvals+b)\n",
    "plt.tight_layout()\n",
    "plt.show()\n",
    "#Çalışma saati ve ortalama arasında kolerasyon (corr)\n",
    "corr=df_clean[\"StudyHours\"].corr(df_clean[\"Average\"])\n",
    "print(f\"Çalışma saati ile Ortalama arası korelasyon: {corr:.2f}\")    # Kolerasyon 0.3 ile 0.6 arasında 0 a yakınsa zayıftır.\n",
    "print(\"Kolerasyon 0.3-0.6 arasındadır. 0 yakın ise başarısızdır.\")"
   ]
  },
  {
   "cell_type": "code",
   "execution_count": 131,
   "id": "ad0737bc-1927-47dd-aed7-09bd17c9d032",
   "metadata": {},
   "outputs": [
    {
     "name": "stdout",
     "output_type": "stream",
     "text": [
      "Genel ortalama: 67.66749999999999\n",
      "En yüksek ortalama ders: Matematik  78.8\n",
      "korelasyon: 0.03947196347835162\n"
     ]
    }
   ],
   "source": [
    "print(\"Genel ortalama:\", df_clean[\"Average\"].mean())\n",
    "print(\"En yüksek ortalama ders:\", subject_mean.idxmax(), subject_mean.max())\n",
    "print(\"korelasyon:\", df_clean[\"StudyHours\"].corr(df_clean[\"Average\"]))\n"
   ]
  },
  {
   "cell_type": "code",
   "execution_count": null,
   "id": "4642a4f8-8115-4898-90dc-6c0c5b919a7c",
   "metadata": {},
   "outputs": [],
   "source": []
  }
 ],
 "metadata": {
  "kernelspec": {
   "display_name": "Python [conda env:base] *",
   "language": "python",
   "name": "conda-base-py"
  },
  "language_info": {
   "codemirror_mode": {
    "name": "ipython",
    "version": 3
   },
   "file_extension": ".py",
   "mimetype": "text/x-python",
   "name": "python",
   "nbconvert_exporter": "python",
   "pygments_lexer": "ipython3",
   "version": "3.12.7"
  }
 },
 "nbformat": 4,
 "nbformat_minor": 5
}
